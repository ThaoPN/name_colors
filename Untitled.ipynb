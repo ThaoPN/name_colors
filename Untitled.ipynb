{
 "cells": [
  {
   "cell_type": "code",
   "execution_count": 3,
   "metadata": {},
   "outputs": [],
   "source": [
    "import cv2\n",
    "import matplotlib\n",
    "import numpy as np\n",
    "import matplotlib.pyplot as plt\n",
    "from enum import Enum\n",
    "\n",
    "%matplotlib inline"
   ]
  },
  {
   "cell_type": "code",
   "execution_count": 5,
   "metadata": {},
   "outputs": [],
   "source": [
    "def revert_channel(image):\n",
    "    return image[:,:,::-1]\n",
    "\n",
    "class COLOR_TYPES(Enum):\n",
    "    Black = 1\n",
    "    White = 2\n",
    "    Gray = 3\n",
    "    Red = 4\n",
    "    Orange = 5\n",
    "    Yellow = 6\n",
    "    Yellow_Green = 7\n",
    "    Green = 8\n",
    "    Green_Cyan = 9\n",
    "    Cyan = 10\n",
    "    Cyan_Blue = 11\n",
    "    Blue = 12\n",
    "    Violet = 13\n",
    "    Magenta = 14\n",
    "    Pink = 15\n",
    "    \n",
    "def get_pixel_color_type(h, s, v):\n",
    "\n",
    "    if v < 75:\n",
    "        return COLOR_TYPES.Black\n",
    "    if v > 190 and s < 27:\n",
    "        return COLOR_TYPES.White\n",
    "    if s < 53 and v < 185:\n",
    "        return COLOR_TYPES.Gray\n",
    "    \n",
    "    if h <= 10:\n",
    "        return COLOR_TYPES.Red\n",
    "    if h <= 50:\n",
    "        return COLOR_TYPES.Orange\n",
    "    if h <= 60:\n",
    "        return COLOR_TYPES.Yellow\n",
    "    if h <= 80:\n",
    "        return COLOR_TYPES.Yellow_Green\n",
    "    if h <= 140:\n",
    "        return COLOR_TYPES.Green\n",
    "    if h <= 169:\n",
    "        return COLOR_TYPES.Green_Cyan\n",
    "    if h <= 200:\n",
    "        return COLOR_TYPES.Cyan\n",
    "    if h <= 220:\n",
    "        return COLOR_TYPES.Cyan_Blue\n",
    "    if h <= 240:\n",
    "        return COLOR_TYPES.Blue\n",
    "    if h <= 280:\n",
    "        return COLOR_TYPES.Violet\n",
    "    if h <= 320:\n",
    "        return COLOR_TYPES.Magenta\n",
    "    if h < 355:\n",
    "        return COLOR_TYPES.Pink\n",
    "    \n",
    "    return COLOR_TYPES.Red"
   ]
  },
  {
   "cell_type": "code",
   "execution_count": 20,
   "metadata": {},
   "outputs": [],
   "source": [
    "def calc_color_in_rect(rect, image):\n",
    "\n",
    "    hsv = cv2.cvtColor(image, cv2.COLOR_BGR2HSV_FULL)\n",
    "    xmin, ymin, xmax, ymax = rect\n",
    "#     plt.imshow(hsv)\n",
    "    colors_count = [0] * len(COLOR_TYPES)\n",
    "    crop_image = image[ymin: ymax, xmin: xmax]\n",
    "#     plt.imshow(revert_channel(crop_image))\n",
    "    h = s = v = 0\n",
    "    for i in range(ymin, ymax):\n",
    "        for j in range(xmin, xmax):\n",
    "            h = hsv[i, j, 0]\n",
    "            s = hsv[i, j, 1]\n",
    "            v = hsv[i, j, 2]\n",
    "            if i == ymax//2 and j == xmax//2:\n",
    "                print(h,s,v)\n",
    "                \n",
    "            color_type = get_pixel_color_type(h, s, v)\n",
    "            colors_count[color_type.value] += 1\n",
    "    \n",
    "    max_idx = np.argmax(np.asarray(colors_count))\n",
    "    print(COLOR_TYPES(max_idx).name)\n",
    "    "
   ]
  },
  {
   "cell_type": "code",
   "execution_count": 25,
   "metadata": {},
   "outputs": [
    {
     "name": "stdout",
     "output_type": "stream",
     "text": [
      "(17, 16, 3)\n",
      "(0, 0, 16, 17)\n",
      "248 255 255\n",
      "Violet\n"
     ]
    },
    {
     "data": {
      "image/png": "[encoded data removed]",
      "text/plain": [
       "<Figure size 432x288 with 1 Axes>"
      ]
     },
     "metadata": {},
     "output_type": "display_data"
    }
   ],
   "source": [
    "image_path = 'example/red.png'\n",
    "image = cv2.imread(image_path)\n",
    "print(image.shape)\n",
    "i_h, i_w = image.shape[:2]\n",
    "rect = (0, 0, i_w, i_h) #(xmin, ymin, xmax, ymax)\n",
    "print(rect)\n",
    "xmin, ymin, xmax, ymax = rect\n",
    "# copy_image = image.copy()\n",
    "# cv2.rectangle(copy_image,(xmin,ymin),(xmax,ymax),(0,255,0),3)\n",
    "plt.imshow(revert_channel(image))\n",
    "calc_color_in_rect(rect, image)"
   ]
  }
 ],
 "metadata": {
  "kernelspec": {
   "display_name": "Python 3",
   "language": "python",
   "name": "python3"
  },
  "language_info": {
   "codemirror_mode": {
    "name": "ipython",
    "version": 3
   },
   "file_extension": ".py",
   "mimetype": "text/x-python",
   "name": "python",
   "nbconvert_exporter": "python",
   "pygments_lexer": "ipython3",
   "version": "3.5.2"
  }
 },
 "nbformat": 4,
 "nbformat_minor": 2
}
