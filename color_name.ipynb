{
 "cells": [
  {
   "cell_type": "code",
   "execution_count": 1,
   "metadata": {},
   "outputs": [],
   "source": [
    "\n",
    "import cv2\n",
    "import matplotlib\n",
    "import numpy as np\n",
    "import matplotlib.pyplot as plt\n",
    "from enum import Enum\n",
    "\n",
    "%matplotlib inline"
   ]
  },
  {
   "cell_type": "code",
   "execution_count": 2,
   "metadata": {},
   "outputs": [],
   "source": [
    "def revert_channel(image):\n",
    "    return image[:,:,::-1]"
   ]
  },
  {
   "cell_type": "code",
   "execution_count": 3,
   "metadata": {},
   "outputs": [],
   "source": [
    "# // Various color types for detected shirt colors.\n",
    "# enum                             {cBLACK=0,cWHITE, cGREY, cRED, cORANGE, cYELLOW, cGREEN, cAQUA, cBLUE, cPURPLE, cPINK,  NUM_COLOR_TYPES};\n",
    "# char* sCTypes[NUM_COLOR_TYPES] = {\"Black\", \"White\",\"Grey\",\"Red\",\"Orange\",\"Yellow\",\"Green\",\"Aqua\",\"Blue\",\"Purple\",\"Pink\"};\n",
    "# uchar cCTHue[NUM_COLOR_TYPES] =    {0,       0,      0,     0,     20,      30,      55,    85,   115,    138,     161};\n",
    "# uchar cCTSat[NUM_COLOR_TYPES] =    {0,       0,      0,    255,   255,     255,     255,   255,   255,    255,     255};\n",
    "# uchar cCTVal[NUM_COLOR_TYPES] =    {0,      255,    120,   255,   255,     255,     255,   255,   255,    255,     255};\n",
    "\n",
    "class COLOR_TYPES(Enum):\n",
    "    black = 0\n",
    "    white = 1\n",
    "    grey = 2\n",
    "    red = 3\n",
    "    orange = 4\n",
    "    yellow = 5\n",
    "    green = 6\n",
    "    aqua = 7\n",
    "    blue = 8\n",
    "    purple = 9\n",
    "    pink = 10\n",
    "\n",
    "colors = [\"Black\", \"White\",\"Grey\",\"Red\",\"Orange\",\"Yellow\",\"Green\",\"Aqua\",\"Blue\",\"Purple\",\"Pink\"]\n",
    "c_hue =    [0,       0,      0,     0,     20,      30,      55,    85,   115,    138,     161]\n",
    "c_sat =    [0,       0,      0,    255,   255,     255,     255,   255,   255,    255,     255]\n",
    "c_val =    [0,      255,    120,   255,   255,     255,     255,   255,   255,    255,     255]\n",
    "\n",
    "def get_pixel_color_type(h, s, v):\n",
    "    color = 0\n",
    "\n",
    "    if v < 75:\n",
    "        color = COLOR_TYPES.black\n",
    "    elif v > 190 and s < 27:\n",
    "        color = COLOR_TYPES.white\n",
    "    elif s < 53 and v < 185:\n",
    "        color = COLOR_TYPES.grey\n",
    "    else:\n",
    "        if h < 14:\n",
    "            color = COLOR_TYPES.red\n",
    "        elif h < 25:\n",
    "            color = COLOR_TYPES.orange\n",
    "        elif h < 34:\n",
    "            color = COLOR_TYPES.yellow\n",
    "        elif h < 73:\n",
    "            color = COLOR_TYPES.green\n",
    "        elif h < 102:\n",
    "            color = COLOR_TYPES.aqua\n",
    "        elif h < 127:\n",
    "            color = COLOR_TYPES.blue\n",
    "        elif h < 149:\n",
    "            color = COLOR_TYPES.purple\n",
    "        elif h < 175:\n",
    "            color = COLOR_TYPES.pink\n",
    "        else:\n",
    "            color = COLOR_TYPES.red\n",
    "            \n",
    "    return color\n",
    "        "
   ]
  },
  {
   "cell_type": "code",
   "execution_count": 15,
   "metadata": {},
   "outputs": [],
   "source": [
    "def calc_color_in_rect(rect, image):\n",
    "    global colors\n",
    "#     hsv = cv2.cvtColor(image, cv2.COLOR_BGR2HSV)\n",
    "    hsv = cv2.cvtColor(image, cv2.COLOR_BGR2HSV_FULL)\n",
    "    xmin, ymin, xmax, ymax = rect\n",
    "#     plt.imshow(hsv)\n",
    "    colors_count = [0] * len(COLOR_TYPES)\n",
    "    crop_image = image[ymin: ymax, xmin: xmax]\n",
    "#     plt.imshow(revert_channel(crop_image))\n",
    "    h = s = v = 0\n",
    "    for i in range(ymin, ymax):\n",
    "        for j in range(xmin, xmax):\n",
    "            h = hsv[i, j, 0]\n",
    "            s = hsv[i, j, 1]\n",
    "            v = hsv[i, j, 2]\n",
    "            \n",
    "            color_type = get_pixel_color_type(h, s, v)\n",
    "            colors_count[color_type.value] += 1\n",
    "    print(h,s,v)\n",
    "    a = np.argmax(np.asarray(colors_count))\n",
    "    print(colors[a])\n",
    "    \n"
   ]
  },
  {
   "cell_type": "code",
   "execution_count": 13,
   "metadata": {},
   "outputs": [
    {
     "name": "stdout",
     "output_type": "stream",
     "text": [
      "(892, 282, 3)\n",
      "(141, 347, 181, 387)\n"
     ]
    },
    {
     "data": {
      "text/plain": [
       "<matplotlib.image.AxesImage at 0x7f77d8d9e668>"
      ]
     },
     "execution_count": 13,
     "metadata": {},
     "output_type": "execute_result"
    },
    {
     "data": {
      "image/png": "[encoded data removed]",
      "text/plain": [
       "<Figure size 432x288 with 1 Axes>"
      ]
     },
     "metadata": {},
     "output_type": "display_data"
    }
   ],
   "source": [
    "image = cv2.imread('image_1.png')\n",
    "print(image.shape)\n",
    "i_h, i_w = image.shape[:2]\n",
    "rect = (i_w//2, i_h//3 + 50, i_w//2+40, i_h//3+90) #(xmin, ymin, xmax, ymax)\n",
    "print(rect)\n",
    "xmin, ymin, xmax, ymax = rect\n",
    "copy_image = image.copy()\n",
    "cv2.rectangle(copy_image,(xmin,ymin),(xmax,ymax),(0,255,0),3)\n",
    "plt.imshow(revert_channel(copy_image))"
   ]
  },
  {
   "cell_type": "code",
   "execution_count": 16,
   "metadata": {},
   "outputs": [
    {
     "name": "stdout",
     "output_type": "stream",
     "text": [
      "148 84 203\n",
      "Purple\n"
     ]
    }
   ],
   "source": [
    "calc_color_in_rect(rect, image)"
   ]
  },
  {
   "cell_type": "code",
   "execution_count": null,
   "metadata": {},
   "outputs": [],
   "source": [
    "print"
   ]
  }
 ],
 "metadata": {
  "kernelspec": {
   "display_name": "Python 3",
   "language": "python",
   "name": "python3"
  },
  "language_info": {
   "codemirror_mode": {
    "name": "ipython",
    "version": 3
   },
   "file_extension": ".py",
   "mimetype": "text/x-python",
   "name": "python",
   "nbconvert_exporter": "python",
   "pygments_lexer": "ipython3",
   "version": "3.5.2"
  }
 },
 "nbformat": 4,
 "nbformat_minor": 2
}
